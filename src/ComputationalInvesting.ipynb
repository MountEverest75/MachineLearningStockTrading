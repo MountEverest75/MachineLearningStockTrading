{
 "cells": [
  {
   "cell_type": "code",
   "execution_count": 1,
   "metadata": {},
   "outputs": [],
   "source": [
    "import quandl"
   ]
  },
  {
   "cell_type": "markdown",
   "metadata": {},
   "source": [
    "## Intrinsic Value, Book Value and Market Cap"
   ]
  },
  {
   "cell_type": "code",
   "execution_count": 2,
   "metadata": {},
   "outputs": [],
   "source": [
    "## Intrinsic value = Future Value(Dividends per year)/Discount Rate\n",
    "## Book Value = Assets - Liabilities (Don't include Intangible assets like Patents, Brand Value etc)\n",
    "## Market Capitilization = Number of Stocks Outstanding*Stock Price\n",
    "## Book Value > Market Cap - Target for acquisition\n",
    "## Intrinsic Value drops and Stock Price High(High Market Cap) - Target for Shorting\n",
    "## Portfolio - Wi (Portion of funds) Sum(Wi) = 1.0 or Sum(abs(Wi)) = 1.0\n",
    "## Returns on a portfolio Rp(t) = Sum(Wi*Ri(t)) t - time period Ri = Return, Wi - Weight\n",
    "## Always consider the weights in light of if the stock is traded long or short. If shorted,there will be gains when the stock falls\n",
    "## Benchmarks - US - S&P500, UK - FTA and Japan - TOPIX\n",
    "## Cap Weighted - Wi = (Market Cap)i / Sum(Market Caps of all Stocks in Benchmark) e.g. AAPL and XOM have higher weights\n",
    "## Sectors for each Benchmarks(\n",
    "## CAPM Equation -- Ri(t) = Beta(i)*Rm(Return on Market)(t)+Alpha(i)(t)  - Alpha is called residual expected to be zero as per CAPM\n",
    "## Beta is a measure of move with increase in market - Beta comes from daily returns - Beta is the slope and Alpha is the Y-Intercept\n",
    "## Active Managers - Overweight or Underweight. May guess or predict alpha\n",
    "## CAPM for Portfolios(Active) - Sum(Wi*(ßi*Rm(t) + Alpha(i)(t))) Wi - Weight of each stock\n",
    "## ßp = Sum(Wi*ßi)\n",
    "## CAPM = ßp*Rm(t) + Alpha_P(t)\n",
    "## Active = ßp*Rm(t) + Sum(Wi*Alpha_P(t))\n",
    "## High beta in up markets and low beta in down markets -- CAPM says you can't beat the market. So ß is also not available\n",
    "## Arbitrage pricing theory. Calculate ß and return Rm(t) for the sector e.g. Finance ßf&Rf, Tech ßt&Rt, Manufacturing ßm&Rm"
   ]
  },
  {
   "cell_type": "markdown",
   "metadata": {},
   "source": [
    "## Technical Indicators"
   ]
  },
  {
   "cell_type": "code",
   "execution_count": null,
   "metadata": {},
   "outputs": [],
   "source": [
    "## Momentum indicators\n",
    "## Momentum at time t, M(t) = ((Price(t)/Price(t-n)) - 1)) where t-n means n days earlier and t means current time\n",
    "## Simple moving average. SMA and Momentum crossing together could be a signal.\n",
    "## SMA used as Proxy for Underlying value\n",
    "## Large excursion from SMA vs Momentum means an arbitrage opportunity as price might come down. Vice versa price\n",
    "## might come down\n",
    "## SMA(t) = (Price(t) - Price(t-n:t).mean()) - 1\n",
    "## Bollinger Bands - Calculate Standard deviation to capture low volatility or high volatility inidicators. Identify smaller\n",
    "## and large excursions. +2SD or -2SD. Large +2SD - Sell. -2SD - Buy signal. Outside bands - (up - sell), (down - buy)\n",
    "## Bollinder Bands at time t, BB(t) = (Price(t) - SMA(t))/(2*std(t)). Graph plotted with price on Y and time on X.\n",
    "## Normalization = (Values - Mean)/Values.std()"
   ]
  }
 ],
 "metadata": {
  "kernelspec": {
   "display_name": "Python 3",
   "language": "python",
   "name": "python3"
  },
  "language_info": {
   "codemirror_mode": {
    "name": "ipython",
    "version": 3
   },
   "file_extension": ".py",
   "mimetype": "text/x-python",
   "name": "python",
   "nbconvert_exporter": "python",
   "pygments_lexer": "ipython3",
   "version": "3.7.1"
  }
 },
 "nbformat": 4,
 "nbformat_minor": 2
}
